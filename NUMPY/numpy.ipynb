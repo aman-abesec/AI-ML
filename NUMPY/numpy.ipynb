{
 "cells": [
  {
   "cell_type": "markdown",
   "id": "914d160b-8211-429b-8ea1-c45fa9b8b244",
   "metadata": {},
   "source": [
    "# Creating Array from list"
   ]
  },
  {
   "cell_type": "code",
   "execution_count": 1,
   "id": "11416514-3720-4e6c-880f-538a34f5fa5d",
   "metadata": {},
   "outputs": [],
   "source": [
    "import numpy as np\n",
    "x=np.array([1,2,3,4,5])\n",
    "y=np.array([[1,2,3,4],[4,6,7,8]])"
   ]
  },
  {
   "cell_type": "code",
   "execution_count": 2,
   "id": "9f642e0f-b3e5-4dc6-959d-90bc2ce393cf",
   "metadata": {},
   "outputs": [
    {
     "name": "stdout",
     "output_type": "stream",
     "text": [
      "First Array :  [1 2 3 4 5]\n",
      "Second Array :  [[1 2 3 4]\n",
      " [4 6 7 8]]\n"
     ]
    }
   ],
   "source": [
    "print(\"First Array : \",x)\n",
    "print(\"Second Array : \",y)"
   ]
  },
  {
   "cell_type": "code",
   "execution_count": 3,
   "id": "13c149f1-43fd-4d35-a308-73248513cd8a",
   "metadata": {},
   "outputs": [
    {
     "name": "stdout",
     "output_type": "stream",
     "text": [
      "1\n",
      "2\n"
     ]
    }
   ],
   "source": [
    "# Finding dimension of array\n",
    "print(x.ndim)\n",
    "print(y.ndim)"
   ]
  },
  {
   "cell_type": "markdown",
   "id": "99f1f4ee-21fa-424f-aa04-9935e7fd2470",
   "metadata": {},
   "source": [
    "## Zeros"
   ]
  },
  {
   "cell_type": "code",
   "execution_count": 4,
   "id": "56bba419-af1d-4bb8-8eef-d6056dbdeda7",
   "metadata": {},
   "outputs": [
    {
     "name": "stdout",
     "output_type": "stream",
     "text": [
      "First Array :  [0. 0. 0. 0.]\n",
      "Second Array :  [[0. 0. 0. 0.]\n",
      " [0. 0. 0. 0.]\n",
      " [0. 0. 0. 0.]]\n"
     ]
    }
   ],
   "source": [
    "x_0_array = np.zeros(4)\n",
    "x_0_array1=np.zeros((3,4))\n",
    "print(\"First Array : \",x_0_array)\n",
    "print(\"Second Array : \",x_0_array1)"
   ]
  },
  {
   "cell_type": "markdown",
   "id": "79d9c837-d2f0-4c4f-97e5-9dc74007eded",
   "metadata": {},
   "source": [
    "## Ones"
   ]
  },
  {
   "cell_type": "code",
   "execution_count": 5,
   "id": "d6a11a22-9175-43a0-9ad0-d33e6e97dccf",
   "metadata": {},
   "outputs": [
    {
     "name": "stdout",
     "output_type": "stream",
     "text": [
      "First Array :  [1. 1. 1. 1.]\n",
      "Second Array :  [[1. 1. 1. 1.]\n",
      " [1. 1. 1. 1.]\n",
      " [1. 1. 1. 1.]]\n"
     ]
    }
   ],
   "source": [
    "x_1_array = np.ones(4)\n",
    "x_1_array1=np.ones((3,4))\n",
    "print(\"First Array : \",x_1_array)\n",
    "print(\"Second Array : \",x_1_array1)"
   ]
  },
  {
   "cell_type": "markdown",
   "id": "bb8807c6-8fa1-4715-bbd9-0e14f5bdddc3",
   "metadata": {},
   "source": [
    "## Creating Empty Array\n",
    "    It store previous memory data"
   ]
  },
  {
   "cell_type": "code",
   "execution_count": 6,
   "id": "ad3766c2-d437-487a-8437-0f953e84af64",
   "metadata": {},
   "outputs": [
    {
     "name": "stdout",
     "output_type": "stream",
     "text": [
      "First Array :  [1. 1. 1. 1.]\n",
      "Second Array :  [[1. 1. 1. 1.]\n",
      " [1. 1. 1. 1.]\n",
      " [1. 1. 1. 1.]]\n"
     ]
    }
   ],
   "source": [
    "x_empty_array = np.empty(4)\n",
    "x_empty_array1=np.empty((3,4))\n",
    "print(\"First Array : \",x_empty_array)\n",
    "print(\"Second Array : \",x_empty_array1)"
   ]
  },
  {
   "cell_type": "markdown",
   "id": "68326ee1-b649-4fab-83b1-52cacc40442e",
   "metadata": {},
   "source": [
    "## Range "
   ]
  },
  {
   "cell_type": "code",
   "execution_count": 7,
   "id": "03997dd1-e66a-4dd3-9f71-955f2738cfad",
   "metadata": {},
   "outputs": [
    {
     "name": "stdout",
     "output_type": "stream",
     "text": [
      "First Array :  [0 1 2 3]\n"
     ]
    }
   ],
   "source": [
    "x_arange_array = np.arange(4)\n",
    "print(\"First Array : \",x_arange_array)"
   ]
  },
  {
   "cell_type": "markdown",
   "id": "db6f9acd-1247-4368-b5a6-3873e71e55b6",
   "metadata": {},
   "source": [
    "## Array diagonaly element filled with 1's"
   ]
  },
  {
   "cell_type": "code",
   "execution_count": 8,
   "id": "5684e104-0812-4225-b0b8-6a86795e1062",
   "metadata": {},
   "outputs": [
    {
     "name": "stdout",
     "output_type": "stream",
     "text": [
      "[[1. 0. 0. 0. 0.]\n",
      " [0. 1. 0. 0. 0.]\n",
      " [0. 0. 1. 0. 0.]\n",
      " [0. 0. 0. 1. 0.]\n",
      " [0. 0. 0. 0. 1.]]\n"
     ]
    }
   ],
   "source": [
    "x_eye_array = np.eye(5)\n",
    "print(x_eye_array)"
   ]
  },
  {
   "cell_type": "code",
   "execution_count": 9,
   "id": "052f601b-4b04-45fd-8a8d-c3885a72c260",
   "metadata": {},
   "outputs": [
    {
     "name": "stdout",
     "output_type": "stream",
     "text": [
      "[[1. 0. 0. 0. 0.]\n",
      " [0. 1. 0. 0. 0.]\n",
      " [0. 0. 1. 0. 0.]]\n"
     ]
    }
   ],
   "source": [
    "x_eye_array1 = np.eye(3,5)\n",
    "print(x_eye_array1)"
   ]
  },
  {
   "cell_type": "markdown",
   "id": "e18f8d64-2a74-4f2f-bba7-182d2103d3bc",
   "metadata": {},
   "source": [
    "## linspace\n",
    "    This metod create an array of equal spacing\n",
    "    \n",
    "*** STNTAX ***\n",
    "linspace(START,END,num=Number_of_element)"
   ]
  },
  {
   "cell_type": "code",
   "execution_count": 10,
   "id": "d122e463-0a9e-4d8c-bc6b-5874c00be13b",
   "metadata": {},
   "outputs": [
    {
     "name": "stdout",
     "output_type": "stream",
     "text": [
      "[ 1.   5.5 10. ]\n"
     ]
    }
   ],
   "source": [
    "ar_lin = np.linspace(1,10,num=3)\n",
    "print(ar_lin)"
   ]
  },
  {
   "cell_type": "markdown",
   "id": "dcc085d9-55bd-4a57-be49-6c017cae8d95",
   "metadata": {},
   "source": [
    "# Random"
   ]
  },
  {
   "cell_type": "markdown",
   "id": "47e7a11e-3d84-476f-aec4-7392891d4a9e",
   "metadata": {},
   "source": [
    "## Rand()\n",
    "This function genaerte array of random number passed as a parameters. Number will be between 0 to 1. "
   ]
  },
  {
   "cell_type": "code",
   "execution_count": 11,
   "id": "2c39cb02-4b40-4098-a17a-45c18f269f4d",
   "metadata": {},
   "outputs": [
    {
     "name": "stdout",
     "output_type": "stream",
     "text": [
      "[0.08306801 0.78402488 0.29501201 0.47103133 0.96082011]\n",
      "[[0.56787616 0.1813776  0.93796354 0.40851294 0.90579041]\n",
      " [0.56694253 0.19215411 0.10405968 0.21977555 0.78683679]\n",
      " [0.28266024 0.45500192 0.55833712 0.1287036  0.09968348]]\n"
     ]
    }
   ],
   "source": [
    "rand_arrray = np.random.rand(5)\n",
    "print(rand_arrray)\n",
    "rand_arrray1 = np.random.rand(3,5)\n",
    "print(rand_arrray1)"
   ]
  },
  {
   "cell_type": "markdown",
   "id": "e17fb514-6203-434d-b698-5a4e1c6fd43e",
   "metadata": {},
   "source": [
    "## Randn()\n",
    "This return positive and negative both."
   ]
  },
  {
   "cell_type": "code",
   "execution_count": 12,
   "id": "a44168f4-2929-4a73-8093-8a2ef58b6309",
   "metadata": {},
   "outputs": [
    {
     "name": "stdout",
     "output_type": "stream",
     "text": [
      "[-0.92634387 -0.22899181  0.37471574 -0.34643244  0.03420805]\n",
      "[[-0.05685499  0.36857641 -1.56128087  1.94196725 -0.37386161]\n",
      " [-0.97284942 -1.15771768  1.28093896 -0.14161895  2.10882839]\n",
      " [-1.27575062  2.09676661 -0.27594671  0.08555579  0.88371021]]\n"
     ]
    }
   ],
   "source": [
    "randn_arrray = np.random.randn(5)\n",
    "print(randn_arrray)\n",
    "randn_arrray1 = np.random.randn(3,5)\n",
    "print(randn_arrray1)"
   ]
  },
  {
   "cell_type": "markdown",
   "id": "66ebfc40-476c-48da-bb9d-9ebd7bc802ee",
   "metadata": {},
   "source": [
    "## Ranf()\n",
    "This function return float number between [0.0 to 1.0)"
   ]
  },
  {
   "cell_type": "code",
   "execution_count": 13,
   "id": "b7ce3698-3312-4b47-98c1-80cab96f80be",
   "metadata": {},
   "outputs": [
    {
     "name": "stdout",
     "output_type": "stream",
     "text": [
      "[0.32689447 0.97677268 0.47637418 0.07443158 0.34016842]\n"
     ]
    }
   ],
   "source": [
    "ranf_arrray = np.random.ranf(5)\n",
    "print(ranf_arrray)"
   ]
  },
  {
   "cell_type": "markdown",
   "id": "3f48157b-f583-46a2-892c-33f4b269ee4f",
   "metadata": {},
   "source": [
    "## randint()\n",
    "This function return number between a given range\n",
    "SYNTAX : np.random.randint(min,max,number_of_values)"
   ]
  },
  {
   "cell_type": "code",
   "execution_count": 14,
   "id": "74d1b9c9-17d1-4a8c-895d-9b65a693f40f",
   "metadata": {},
   "outputs": [
    {
     "name": "stdout",
     "output_type": "stream",
     "text": [
      "[34 10 39 31 28]\n"
     ]
    }
   ],
   "source": [
    "randint_arrray = np.random.randint(3,40,5)\n",
    "print(randint_arrray)"
   ]
  },
  {
   "cell_type": "markdown",
   "id": "31bd2e35-66ba-4646-9052-47e11e972234",
   "metadata": {},
   "source": [
    "# DataType In Numpy Array\n",
    "- bool_ : boolean true false\n",
    "- int_\n",
    "- int8\n",
    "- int16\n",
    "- int32\n",
    "- int64\n",
    "- uint8 : Unsignedinteger (0 to 255)\n",
    "- float_\n",
    "- float32\n",
    "- complex_ : for complex number"
   ]
  },
  {
   "cell_type": "code",
   "execution_count": 15,
   "id": "a496fd99-c808-453d-b745-6f2d0d83d358",
   "metadata": {},
   "outputs": [
    {
     "name": "stdout",
     "output_type": "stream",
     "text": [
      "int64\n"
     ]
    }
   ],
   "source": [
    "array = np.array([5,6,3,5])\n",
    "print(array.dtype)"
   ]
  },
  {
   "cell_type": "code",
   "execution_count": 16,
   "id": "e44a415e-189a-4807-88aa-c8896f85a2a4",
   "metadata": {},
   "outputs": [
    {
     "name": "stdout",
     "output_type": "stream",
     "text": [
      "float64\n"
     ]
    }
   ],
   "source": [
    "array = np.array([5.9,6.0,3.4,5.5])\n",
    "print(array.dtype)"
   ]
  },
  {
   "cell_type": "code",
   "execution_count": 17,
   "id": "4e7ee2c9-15f9-43b2-bec9-1d2d0983e44c",
   "metadata": {},
   "outputs": [
    {
     "name": "stdout",
     "output_type": "stream",
     "text": [
      "int8\n"
     ]
    }
   ],
   "source": [
    "## Conversion of data type\n",
    "array_conver = np.array([5,6,7,8],dtype = np.int8)\n",
    "print(array_conver.dtype)"
   ]
  },
  {
   "cell_type": "code",
   "execution_count": 18,
   "id": "7c9c7f3a-3871-4e8c-a4fa-0bf78bcf379b",
   "metadata": {},
   "outputs": [
    {
     "name": "stdout",
     "output_type": "stream",
     "text": [
      "float32\n"
     ]
    }
   ],
   "source": [
    "## Conversion of data type\n",
    "array_conver = np.array([5,6,7,8],dtype = \"f\")\n",
    "print(array_conver.dtype)"
   ]
  },
  {
   "cell_type": "code",
   "execution_count": 19,
   "id": "3a298136-9a71-4d9b-897c-0e3e6d8f35cf",
   "metadata": {},
   "outputs": [
    {
     "name": "stdout",
     "output_type": "stream",
     "text": [
      "float32\n"
     ]
    }
   ],
   "source": [
    "## Conversion of data type\n",
    "array_conver = np.array([5,6,7,8])\n",
    "new_array_converted = np.float32(array_conver)\n",
    "print(new_array_converted.dtype)"
   ]
  },
  {
   "cell_type": "code",
   "execution_count": 20,
   "id": "62fcdbd2-f70a-4b73-909d-e17a19724d38",
   "metadata": {},
   "outputs": [
    {
     "name": "stdout",
     "output_type": "stream",
     "text": [
      "float64\n"
     ]
    }
   ],
   "source": [
    "## Conversion of data type\n",
    "array_conver = np.array([5,6,7,8])\n",
    "new_array_converted = array_conver.astype(float)\n",
    "print(new_array_converted.dtype)"
   ]
  },
  {
   "cell_type": "markdown",
   "id": "3d49c3fb-4255-4b8c-bc04-d0b8e5fe0e86",
   "metadata": {},
   "source": [
    "# Arithmetic Operation in Numpy array\n",
    "- (a+b) : np.add(a,b)\n",
    "- (a-b) : np.subtract(a,b)\n",
    "- (a*b) : np.multiply(a,b)\n",
    "- (a/b) : np.divide(a,b)\n",
    "- (a%b) : np.mod(a,b)\n",
    "- (a**b) : np.power(a,b)\n",
    "- (1/a) : np.reciprocal(a)"
   ]
  },
  {
   "cell_type": "code",
   "execution_count": 21,
   "id": "5ab5d2bc-f640-418a-a9ca-26174cf54d20",
   "metadata": {},
   "outputs": [
    {
     "name": "stdout",
     "output_type": "stream",
     "text": [
      "[2 3 4] [2 3 4]\n",
      "[4 6 8]\n",
      "[4 6 8]\n",
      "[ 9 10 11]\n"
     ]
    }
   ],
   "source": [
    "c = np.arange(2,5)\n",
    "d = np.arange(2,5)\n",
    "print(c,d)\n",
    "print(np.add(c,d))\n",
    "print(c+d)\n",
    "print(c+7)\n",
    "# These opertion can be performed for 2D"
   ]
  },
  {
   "cell_type": "markdown",
   "id": "2ed6d514-b208-4d41-a730-57d28a8c397a",
   "metadata": {},
   "source": [
    "## Arithmetic function in numpy array\n",
    "- np.min(x)\n",
    "- np.max(x)\n",
    "- np.argmin(x) : return min index\n",
    "- np.argmax(x) : return max index\n",
    "- np.sqrt(x)\n",
    "- np.sin(x)\n",
    "- np.cos(x)\n",
    "- np.cumsum(x)"
   ]
  },
  {
   "cell_type": "code",
   "execution_count": 22,
   "id": "538ebd2f-94c4-4b04-86c8-91502655caf3",
   "metadata": {},
   "outputs": [
    {
     "name": "stdout",
     "output_type": "stream",
     "text": [
      "[5 6 7 8]\n",
      "8\n",
      "[4 8]\n"
     ]
    }
   ],
   "source": [
    "mx = np.arange(5,9)\n",
    "yx =np.array([[1,2,3,4],[4,6,7,8]])\n",
    "print(mx)\n",
    "print(np.max(mx))\n",
    "print(np.max(yx,axis=1))"
   ]
  },
  {
   "cell_type": "markdown",
   "id": "884af7b7-1bef-4250-9bf5-7b5c58e47994",
   "metadata": {},
   "source": [
    "# Shape"
   ]
  },
  {
   "cell_type": "code",
   "execution_count": 28,
   "id": "9c5ffcf7-2f11-42fc-87a0-9904314c46dc",
   "metadata": {},
   "outputs": [
    {
     "name": "stdout",
     "output_type": "stream",
     "text": [
      "[[1 2 3]\n",
      " [4 5 6]]\n",
      "(2, 3)\n",
      "[[[[1 2 3 4]]]]\n",
      "(1, 1, 1, 4)\n"
     ]
    }
   ],
   "source": [
    "array = np.array([[1,2,3],[4,5,6]])\n",
    "print(array)\n",
    "print(array.shape)"
   ]
  },
  {
   "cell_type": "code",
   "execution_count": 29,
   "id": "bb95f460-1f77-4baf-aa86-ef1c22de6ead",
   "metadata": {},
   "outputs": [
    {
     "name": "stdout",
     "output_type": "stream",
     "text": [
      "[[[[1 2 3 4]]]]\n",
      "(1, 1, 1, 4)\n"
     ]
    }
   ],
   "source": [
    "a= np.array([1,2,3,4],ndmin=4)\n",
    "print(a)\n",
    "print(a.shape)"
   ]
  },
  {
   "cell_type": "markdown",
   "id": "d95abf83-92b7-440d-b9f5-b714542ba4d5",
   "metadata": {},
   "source": [
    "# Reshape"
   ]
  },
  {
   "cell_type": "code",
   "execution_count": 39,
   "id": "61f30f81-b02f-4555-b1a8-7290dde25973",
   "metadata": {},
   "outputs": [
    {
     "name": "stdout",
     "output_type": "stream",
     "text": [
      "[[[3 4]\n",
      "  [5 6]]\n",
      "\n",
      " [[7 8]\n",
      "  [9 5]]]\n",
      "[3 4 5 6 7 8 9 5]\n"
     ]
    }
   ],
   "source": [
    "m= np.array([3,4,5,6,7,8,9,5])\n",
    "# new_m=m.reshape(2,3)\n",
    "new1_m=m.reshape(2,2,2)\n",
    "print(new1_m)\n",
    "d1 = new1_m.reshape(-1)\n",
    "print(d1)"
   ]
  },
  {
   "cell_type": "markdown",
   "id": "70c1bb5e-0951-4234-9bf2-f12de94925d4",
   "metadata": {},
   "source": [
    "# Broadcasting"
   ]
  },
  {
   "cell_type": "code",
   "execution_count": 43,
   "id": "32fe75fe-5a14-4659-b72b-46021fae2990",
   "metadata": {},
   "outputs": [
    {
     "name": "stdout",
     "output_type": "stream",
     "text": [
      "[[1 2 3]] [[4]\n",
      " [4]\n",
      " [6]]\n",
      "[[5 6 7]\n",
      " [5 6 7]\n",
      " [7 8 9]]\n"
     ]
    }
   ],
   "source": [
    "b1=np.array([1,2,3])\n",
    "b1_sh=b1.reshape(1,3)\n",
    "b2=np.array([4,4,6])\n",
    "b2_sh=b2.reshape(3,1)\n",
    "print(b1_sh, b2_sh) \n",
    "print(b1_sh + b2_sh)"
   ]
  },
  {
   "cell_type": "markdown",
   "id": "35793e78-200b-4272-b1cf-0dbfaa5e2e7b",
   "metadata": {},
   "source": [
    "# Indexing and slicing in numpy"
   ]
  },
  {
   "cell_type": "code",
   "execution_count": 52,
   "id": "c7fd8758-a15e-42ec-ae3d-d3e36e6a21a5",
   "metadata": {},
   "outputs": [
    {
     "name": "stdout",
     "output_type": "stream",
     "text": [
      "[[[ 1  2]\n",
      "  [ 3  4]\n",
      "  [ 5  6]]\n",
      "\n",
      " [[ 7  8]\n",
      "  [ 9 10]\n",
      "  [11 13]]]\n",
      "5\n",
      "5\n",
      "[1 2]\n"
     ]
    }
   ],
   "source": [
    "iarray = np.array([1,2,3,4,5,6,7,8,9,10,11,13])\n",
    "new_i_array = iarray.reshape(2,3,2)\n",
    "print(new_i_array)\n",
    "print(new_i_array[0][2][0])\n",
    "print(new_i_array[0,2,0])\n",
    "\n",
    "#Slicing\n",
    "print(new_i_array[0,0,0:])"
   ]
  },
  {
   "cell_type": "markdown",
   "id": "cb700bab-5209-4315-9e0d-7f532d020bf8",
   "metadata": {},
   "source": [
    "# Iteration in array"
   ]
  },
  {
   "cell_type": "markdown",
   "id": "a7075bfd-b465-4e58-812e-a96c2072b58f",
   "metadata": {},
   "source": [
    "## nditer()"
   ]
  },
  {
   "cell_type": "code",
   "execution_count": 54,
   "id": "9e97d4b8-ee58-47ee-b6eb-45964da6913d",
   "metadata": {},
   "outputs": [
    {
     "name": "stdout",
     "output_type": "stream",
     "text": [
      "1\n",
      "2\n",
      "3\n",
      "4\n",
      "5\n",
      "6\n"
     ]
    }
   ],
   "source": [
    "a=np.array([[[1,2,3],[4,5,6]]])\n",
    "for i in np.nditer(a):\n",
    "    print(i)"
   ]
  },
  {
   "cell_type": "markdown",
   "id": "a38295b8-9589-4a92-bab9-d3746bb16650",
   "metadata": {},
   "source": [
    "## ndenumerate()"
   ]
  },
  {
   "cell_type": "code",
   "execution_count": 58,
   "id": "cdc862a3-1f74-4e49-bfa9-0f10fb7b9fbf",
   "metadata": {},
   "outputs": [
    {
     "name": "stdout",
     "output_type": "stream",
     "text": [
      "(0, 0, 0) 1\n",
      "(0, 0, 1) 2\n",
      "(0, 0, 2) 3\n",
      "(0, 1, 0) 4\n",
      "(0, 1, 1) 5\n",
      "(0, 1, 2) 6\n"
     ]
    }
   ],
   "source": [
    "a=np.array([[[1,2,3],[4,5,6]]])\n",
    "for i,d in np.ndenumerate(a):\n",
    "    print(i,d)"
   ]
  },
  {
   "cell_type": "markdown",
   "id": "ac124fbc-4c40-4f23-b9a9-022a6e7b8f31",
   "metadata": {},
   "source": [
    "## Copy vs View"
   ]
  },
  {
   "cell_type": "code",
   "execution_count": 60,
   "id": "62ad43e7-f18a-4987-b583-81ec9adc365b",
   "metadata": {},
   "outputs": [
    {
     "name": "stdout",
     "output_type": "stream",
     "text": [
      "[1 2 3 4]\n",
      "[1 2 3 4]\n"
     ]
    }
   ],
   "source": [
    "v=np.array([1,2,3,4])\n",
    "k=v.copy()\n",
    "print(k)\n",
    "\n",
    "v1=np.array([1,2,3,4])\n",
    "vView=v1.copy()\n",
    "print(vView)"
   ]
  },
  {
   "cell_type": "markdown",
   "id": "02c23dd1-a70b-47b6-8f63-ff15975bf8ee",
   "metadata": {},
   "source": [
    "## Diffrence b/w view and copy\n",
    "\n",
    "- Copy\n",
    "  - Copy owns the data\n",
    "  - Copy of array is new array\n",
    "- View\n",
    "  - View doesn't own the data.\n",
    "  - View is the original array.\n",
    "  - Any changes in view affect the original array."
   ]
  },
  {
   "cell_type": "markdown",
   "id": "c2709277-cf75-456f-94fb-47e256d384c3",
   "metadata": {},
   "source": [
    "## Join and Splits function in numpy array"
   ]
  },
  {
   "cell_type": "code",
   "execution_count": 62,
   "id": "2427c41f-d61f-4f9e-a521-3690f538028d",
   "metadata": {},
   "outputs": [
    {
     "name": "stdout",
     "output_type": "stream",
     "text": [
      "[1 2 3 4 5 6]\n"
     ]
    }
   ],
   "source": [
    "a=np.array([1,2,3])\n",
    "b=np.array([4,5,6])\n",
    "ab=np.concatenate((a,b))\n",
    "print(ab)"
   ]
  },
  {
   "cell_type": "code",
   "execution_count": 66,
   "id": "1b8d9f45-07cc-4037-a0e0-08fe46fc28dc",
   "metadata": {},
   "outputs": [
    {
     "name": "stdout",
     "output_type": "stream",
     "text": [
      "[[1 2 5 6]\n",
      " [3 4 7 8]]\n"
     ]
    }
   ],
   "source": [
    "a=np.array([[1,2],[3,4]])\n",
    "b=np.array([[5,6],[7,8]])\n",
    "ab=np.concatenate((a,b),axis=1)\n",
    "print(ab)"
   ]
  },
  {
   "cell_type": "code",
   "execution_count": 67,
   "id": "5f84767f-cd63-4f04-ad84-a76366107897",
   "metadata": {},
   "outputs": [
    {
     "name": "stdout",
     "output_type": "stream",
     "text": [
      "[[1 2 3]\n",
      " [4 5 6]]\n",
      "[1 2 3 4 5 6]\n",
      "[[1 2 3]\n",
      " [4 5 6]]\n",
      "[[[1 4]\n",
      "  [2 5]\n",
      "  [3 6]]]\n"
     ]
    }
   ],
   "source": [
    "a=np.array([1,2,3])\n",
    "b=np.array([4,5,6])\n",
    "ab=np.stack((a,b))\n",
    "ab1=np.hstack((a,b)) #row\n",
    "ab2=np.vstack((a,b)) #col\n",
    "ab3=np.dstack((a,b)) #heights\n",
    "print(ab)\n",
    "print(ab1)\n",
    "print(ab2)\n",
    "print(ab3)"
   ]
  },
  {
   "cell_type": "code",
   "execution_count": 73,
   "id": "2750adb7-a04c-43ca-9215-419cfdab5835",
   "metadata": {},
   "outputs": [
    {
     "name": "stdout",
     "output_type": "stream",
     "text": [
      "[array([1, 2]), array([3, 4]), array([5, 6])]\n",
      "[array([1, 2]), array([3, 4]), array([5, 6])]\n",
      "[array([1, 2]), array([3, 4]), array([5, 6])]\n"
     ]
    }
   ],
   "source": [
    "v=np.array([1,2,3,4,5,6])\n",
    "ar=np.array_split(v,3)\n",
    "print(ar)\n",
    "v1=np.array([[1,2],[3,4],[5,6]])\n",
    "ar1=np.array_split(v,3)\n",
    "print(ar1)\n",
    "ar2=np.array_split(v,3,axis=0)\n",
    "print(ar2)"
   ]
  },
  {
   "cell_type": "markdown",
   "id": "a6264225-c7b5-4691-a954-3eefea79eee2",
   "metadata": {},
   "source": [
    "## Num py array function"
   ]
  },
  {
   "cell_type": "markdown",
   "id": "d9fda78f-2e4e-497f-9514-923247c97d2a",
   "metadata": {},
   "source": [
    "## Search Array"
   ]
  },
  {
   "cell_type": "code",
   "execution_count": 74,
   "id": "a880964e-5e67-4d8b-96e7-3622a38a3f2f",
   "metadata": {},
   "outputs": [
    {
     "name": "stdout",
     "output_type": "stream",
     "text": [
      "(array([3]),)\n"
     ]
    }
   ],
   "source": [
    "a=np.array([1,2,3,4,5,6,7])\n",
    "print(np.where(a==4))"
   ]
  },
  {
   "cell_type": "code",
   "execution_count": 78,
   "id": "18420b82-f9c4-4a59-a3e1-448aa29377bf",
   "metadata": {},
   "outputs": [
    {
     "name": "stdout",
     "output_type": "stream",
     "text": [
      "4\n"
     ]
    }
   ],
   "source": [
    "a=np.array([1,2,3,4,5,6])\n",
    "x=np.searchsorted(a,4.5)\n",
    "print(x)\n",
    "#also we can pass attribute side=\"right\" side=\"left\" for the index"
   ]
  },
  {
   "cell_type": "code",
   "execution_count": 79,
   "id": "834dc96d-b399-4fd6-90d7-fe17c01fb6f7",
   "metadata": {},
   "outputs": [
    {
     "name": "stdout",
     "output_type": "stream",
     "text": [
      "[4 6 2]\n"
     ]
    }
   ],
   "source": [
    "a=np.array([1,2,3,4,5,6])\n",
    "x=np.searchsorted(a,[4.5,8.6,2.1])\n",
    "print(x)"
   ]
  },
  {
   "cell_type": "markdown",
   "id": "47a01008-0eab-4d69-882b-617b8ca4eb12",
   "metadata": {},
   "source": [
    "## Sort"
   ]
  },
  {
   "cell_type": "code",
   "execution_count": 80,
   "id": "a6fb3700-be8e-4db4-ae3e-1f9edfef0d9e",
   "metadata": {},
   "outputs": [
    {
     "name": "stdout",
     "output_type": "stream",
     "text": [
      "[0.68297531 0.28405876 0.98372975 0.0999766  0.34082982]\n",
      "[0.0999766  0.28405876 0.34082982 0.68297531 0.98372975]\n"
     ]
    }
   ],
   "source": [
    "a=np.random.rand(5)\n",
    "print(a)\n",
    "print(np.sort(a))"
   ]
  },
  {
   "cell_type": "markdown",
   "id": "26bce539-f0a0-4080-ad19-10ac3cd40530",
   "metadata": {},
   "source": [
    "## Filter array"
   ]
  },
  {
   "cell_type": "code",
   "execution_count": 81,
   "id": "0515ce1d-b61b-4328-99eb-32bbcdabe3cc",
   "metadata": {},
   "outputs": [
    {
     "name": "stdout",
     "output_type": "stream",
     "text": [
      "[1 4 5]\n"
     ]
    }
   ],
   "source": [
    "kh=np.array([1,2,3,4,5,6])\n",
    "bf=[True,False,False,True,True,False]\n",
    "k=kh[bf]\n",
    "print(k)"
   ]
  },
  {
   "cell_type": "code",
   "execution_count": null,
   "id": "9da63638-5149-45a5-a8ce-1484d64b5d0b",
   "metadata": {},
   "outputs": [],
   "source": []
  }
 ],
 "metadata": {
  "kernelspec": {
   "display_name": "Python 3 (ipykernel)",
   "language": "python",
   "name": "python3"
  },
  "language_info": {
   "codemirror_mode": {
    "name": "ipython",
    "version": 3
   },
   "file_extension": ".py",
   "mimetype": "text/x-python",
   "name": "python",
   "nbconvert_exporter": "python",
   "pygments_lexer": "ipython3",
   "version": "3.12.1"
  }
 },
 "nbformat": 4,
 "nbformat_minor": 5
}
