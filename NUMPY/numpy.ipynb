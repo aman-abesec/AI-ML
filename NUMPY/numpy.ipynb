{
 "cells": [
  {
   "cell_type": "markdown",
   "id": "914d160b-8211-429b-8ea1-c45fa9b8b244",
   "metadata": {},
   "source": [
    "# Creating Array from list"
   ]
  },
  {
   "cell_type": "code",
   "execution_count": 1,
   "id": "11416514-3720-4e6c-880f-538a34f5fa5d",
   "metadata": {},
   "outputs": [],
   "source": [
    "import numpy as np\n",
    "x=np.array([1,2,3,4,5])\n",
    "y=np.array([[1,2,3,4],[4,6,7,8]])"
   ]
  },
  {
   "cell_type": "code",
   "execution_count": 2,
   "id": "9f642e0f-b3e5-4dc6-959d-90bc2ce393cf",
   "metadata": {},
   "outputs": [
    {
     "name": "stdout",
     "output_type": "stream",
     "text": [
      "First Array :  [1 2 3 4 5]\n",
      "Second Array :  [[1 2 3 4]\n",
      " [4 6 7 8]]\n"
     ]
    }
   ],
   "source": [
    "print(\"First Array : \",x)\n",
    "print(\"Second Array : \",y)"
   ]
  },
  {
   "cell_type": "code",
   "execution_count": 3,
   "id": "13c149f1-43fd-4d35-a308-73248513cd8a",
   "metadata": {},
   "outputs": [
    {
     "name": "stdout",
     "output_type": "stream",
     "text": [
      "1\n",
      "2\n"
     ]
    }
   ],
   "source": [
    "# Finding dimension of array\n",
    "print(x.ndim)\n",
    "print(y.ndim)"
   ]
  },
  {
   "cell_type": "markdown",
   "id": "99f1f4ee-21fa-424f-aa04-9935e7fd2470",
   "metadata": {},
   "source": [
    "## Zeros"
   ]
  },
  {
   "cell_type": "code",
   "execution_count": 4,
   "id": "56bba419-af1d-4bb8-8eef-d6056dbdeda7",
   "metadata": {},
   "outputs": [
    {
     "name": "stdout",
     "output_type": "stream",
     "text": [
      "First Array :  [0. 0. 0. 0.]\n",
      "Second Array :  [[0. 0. 0. 0.]\n",
      " [0. 0. 0. 0.]\n",
      " [0. 0. 0. 0.]]\n"
     ]
    }
   ],
   "source": [
    "x_0_array = np.zeros(4)\n",
    "x_0_array1=np.zeros((3,4))\n",
    "print(\"First Array : \",x_0_array)\n",
    "print(\"Second Array : \",x_0_array1)"
   ]
  },
  {
   "cell_type": "markdown",
   "id": "79d9c837-d2f0-4c4f-97e5-9dc74007eded",
   "metadata": {},
   "source": [
    "## Ones"
   ]
  },
  {
   "cell_type": "code",
   "execution_count": 5,
   "id": "d6a11a22-9175-43a0-9ad0-d33e6e97dccf",
   "metadata": {},
   "outputs": [
    {
     "name": "stdout",
     "output_type": "stream",
     "text": [
      "First Array :  [1. 1. 1. 1.]\n",
      "Second Array :  [[1. 1. 1. 1.]\n",
      " [1. 1. 1. 1.]\n",
      " [1. 1. 1. 1.]]\n"
     ]
    }
   ],
   "source": [
    "x_1_array = np.ones(4)\n",
    "x_1_array1=np.ones((3,4))\n",
    "print(\"First Array : \",x_1_array)\n",
    "print(\"Second Array : \",x_1_array1)"
   ]
  },
  {
   "cell_type": "markdown",
   "id": "bb8807c6-8fa1-4715-bbd9-0e14f5bdddc3",
   "metadata": {},
   "source": [
    "## Creating Empty Array\n",
    "    It store previous memory data"
   ]
  },
  {
   "cell_type": "code",
   "execution_count": 6,
   "id": "ad3766c2-d437-487a-8437-0f953e84af64",
   "metadata": {},
   "outputs": [
    {
     "name": "stdout",
     "output_type": "stream",
     "text": [
      "First Array :  [1. 1. 1. 1.]\n",
      "Second Array :  [[1. 1. 1. 1.]\n",
      " [1. 1. 1. 1.]\n",
      " [1. 1. 1. 1.]]\n"
     ]
    }
   ],
   "source": [
    "x_empty_array = np.empty(4)\n",
    "x_empty_array1=np.empty((3,4))\n",
    "print(\"First Array : \",x_empty_array)\n",
    "print(\"Second Array : \",x_empty_array1)"
   ]
  },
  {
   "cell_type": "markdown",
   "id": "68326ee1-b649-4fab-83b1-52cacc40442e",
   "metadata": {},
   "source": [
    "## Range "
   ]
  },
  {
   "cell_type": "code",
   "execution_count": 7,
   "id": "03997dd1-e66a-4dd3-9f71-955f2738cfad",
   "metadata": {},
   "outputs": [
    {
     "name": "stdout",
     "output_type": "stream",
     "text": [
      "First Array :  [0 1 2 3]\n"
     ]
    }
   ],
   "source": [
    "x_arange_array = np.arange(4)\n",
    "print(\"First Array : \",x_arange_array)"
   ]
  },
  {
   "cell_type": "markdown",
   "id": "db6f9acd-1247-4368-b5a6-3873e71e55b6",
   "metadata": {},
   "source": [
    "## Array diagonaly element filled with 1's"
   ]
  },
  {
   "cell_type": "code",
   "execution_count": 8,
   "id": "5684e104-0812-4225-b0b8-6a86795e1062",
   "metadata": {},
   "outputs": [
    {
     "name": "stdout",
     "output_type": "stream",
     "text": [
      "[[1. 0. 0. 0. 0.]\n",
      " [0. 1. 0. 0. 0.]\n",
      " [0. 0. 1. 0. 0.]\n",
      " [0. 0. 0. 1. 0.]\n",
      " [0. 0. 0. 0. 1.]]\n"
     ]
    }
   ],
   "source": [
    "x_eye_array = np.eye(5)\n",
    "print(x_eye_array)"
   ]
  },
  {
   "cell_type": "code",
   "execution_count": 9,
   "id": "052f601b-4b04-45fd-8a8d-c3885a72c260",
   "metadata": {},
   "outputs": [
    {
     "name": "stdout",
     "output_type": "stream",
     "text": [
      "[[1. 0. 0. 0. 0.]\n",
      " [0. 1. 0. 0. 0.]\n",
      " [0. 0. 1. 0. 0.]]\n"
     ]
    }
   ],
   "source": [
    "x_eye_array1 = np.eye(3,5)\n",
    "print(x_eye_array1)"
   ]
  },
  {
   "cell_type": "markdown",
   "id": "e18f8d64-2a74-4f2f-bba7-182d2103d3bc",
   "metadata": {},
   "source": [
    "## linspace\n",
    "    This metod create an array of equal spacing\n",
    "    \n",
    "*** STNTAX ***\n",
    "linspace(START,END,num=Number_of_element)"
   ]
  },
  {
   "cell_type": "code",
   "execution_count": 10,
   "id": "d122e463-0a9e-4d8c-bc6b-5874c00be13b",
   "metadata": {},
   "outputs": [
    {
     "name": "stdout",
     "output_type": "stream",
     "text": [
      "[ 1.   5.5 10. ]\n"
     ]
    }
   ],
   "source": [
    "ar_lin = np.linspace(1,10,num=3)\n",
    "print(ar_lin)"
   ]
  },
  {
   "cell_type": "markdown",
   "id": "dcc085d9-55bd-4a57-be49-6c017cae8d95",
   "metadata": {},
   "source": [
    "# Random"
   ]
  },
  {
   "cell_type": "markdown",
   "id": "47e7a11e-3d84-476f-aec4-7392891d4a9e",
   "metadata": {},
   "source": [
    "## Rand()\n",
    "This function genaerte array of random number passed as a parameters. Number will be between 0 to 1. "
   ]
  },
  {
   "cell_type": "code",
   "execution_count": 12,
   "id": "2c39cb02-4b40-4098-a17a-45c18f269f4d",
   "metadata": {},
   "outputs": [
    {
     "name": "stdout",
     "output_type": "stream",
     "text": [
      "[0.87656545 0.14460214 0.90298137 0.16950715 0.05112984]\n",
      "[[0.05063701 0.76473293 0.65357045 0.21174825 0.05089358]\n",
      " [0.47537815 0.88882111 0.89215546 0.67997386 0.97790361]\n",
      " [0.10890151 0.80968716 0.41287133 0.66704858 0.62421892]]\n"
     ]
    }
   ],
   "source": [
    "rand_arrray = np.random.rand(5)\n",
    "print(rand_arrray)\n",
    "rand_arrray1 = np.random.rand(3,5)\n",
    "print(rand_arrray1)"
   ]
  },
  {
   "cell_type": "markdown",
   "id": "e17fb514-6203-434d-b698-5a4e1c6fd43e",
   "metadata": {},
   "source": [
    "## Randn()\n",
    "This return positive and negative both."
   ]
  },
  {
   "cell_type": "code",
   "execution_count": 14,
   "id": "a44168f4-2929-4a73-8093-8a2ef58b6309",
   "metadata": {},
   "outputs": [
    {
     "name": "stdout",
     "output_type": "stream",
     "text": [
      "[-0.89988607  1.53414749 -0.34033864 -0.37979743  0.59367881]\n",
      "[[-0.40595036  0.75102469 -1.1566574   0.32962331 -1.50206693]\n",
      " [-0.34887899  0.2040458   0.73488242 -1.09554913  0.84574467]\n",
      " [ 0.33807276  0.16002551  0.51249966  1.50950648  0.77695714]]\n"
     ]
    }
   ],
   "source": [
    "randn_arrray = np.random.randn(5)\n",
    "print(randn_arrray)\n",
    "randn_arrray1 = np.random.randn(3,5)\n",
    "print(randn_arrray1)"
   ]
  },
  {
   "cell_type": "markdown",
   "id": "66ebfc40-476c-48da-bb9d-9ebd7bc802ee",
   "metadata": {},
   "source": [
    "## Ranf()\n",
    "This function return float number between [0.0 to 1.0)"
   ]
  },
  {
   "cell_type": "code",
   "execution_count": 17,
   "id": "b7ce3698-3312-4b47-98c1-80cab96f80be",
   "metadata": {},
   "outputs": [
    {
     "name": "stdout",
     "output_type": "stream",
     "text": [
      "[0.75567145 0.21823029 0.98677189 0.96672285 0.17569175]\n"
     ]
    }
   ],
   "source": [
    "ranf_arrray = np.random.ranf(5)\n",
    "print(ranf_arrray)"
   ]
  },
  {
   "cell_type": "markdown",
   "id": "3f48157b-f583-46a2-892c-33f4b269ee4f",
   "metadata": {},
   "source": [
    "## randint()\n",
    "This function return number between a given range\n",
    "SYNTAX : np.random.randint(min,max,number_of_values)"
   ]
  },
  {
   "cell_type": "code",
   "execution_count": 22,
   "id": "74d1b9c9-17d1-4a8c-895d-9b65a693f40f",
   "metadata": {},
   "outputs": [
    {
     "name": "stdout",
     "output_type": "stream",
     "text": [
      "[32 15 16 14 34]\n"
     ]
    }
   ],
   "source": [
    "randint_arrray = np.random.randint(3,40,5)\n",
    "print(randint_arrray)"
   ]
  },
  {
   "cell_type": "markdown",
   "id": "31bd2e35-66ba-4646-9052-47e11e972234",
   "metadata": {},
   "source": [
    "# DataType In Numpy Array\n",
    "- bool_ : boolean true false\n",
    "- int_\n",
    "- int8\n",
    "- int16\n",
    "- int32\n",
    "- int64\n",
    "- uint8 : Unsignedinteger (0 to 255)\n",
    "- float_\n",
    "- float32\n",
    "- complex_ : for complex number"
   ]
  },
  {
   "cell_type": "code",
   "execution_count": 23,
   "id": "a496fd99-c808-453d-b745-6f2d0d83d358",
   "metadata": {},
   "outputs": [
    {
     "name": "stdout",
     "output_type": "stream",
     "text": [
      "int64\n"
     ]
    }
   ],
   "source": [
    "array = np.array([5,6,3,5])\n",
    "print(array.dtype)"
   ]
  },
  {
   "cell_type": "code",
   "execution_count": 24,
   "id": "e44a415e-189a-4807-88aa-c8896f85a2a4",
   "metadata": {},
   "outputs": [
    {
     "name": "stdout",
     "output_type": "stream",
     "text": [
      "float64\n"
     ]
    }
   ],
   "source": [
    "array = np.array([5.9,6.0,3.4,5.5])\n",
    "print(array.dtype)"
   ]
  },
  {
   "cell_type": "code",
   "execution_count": 29,
   "id": "4e7ee2c9-15f9-43b2-bec9-1d2d0983e44c",
   "metadata": {},
   "outputs": [
    {
     "name": "stdout",
     "output_type": "stream",
     "text": [
      "int8\n"
     ]
    }
   ],
   "source": [
    "## Conversion of data type\n",
    "array_conver = np.array([5,6,7,8],dtype = np.int8)\n",
    "print(array_conver.dtype)"
   ]
  },
  {
   "cell_type": "code",
   "execution_count": 30,
   "id": "7c9c7f3a-3871-4e8c-a4fa-0bf78bcf379b",
   "metadata": {},
   "outputs": [
    {
     "name": "stdout",
     "output_type": "stream",
     "text": [
      "float32\n"
     ]
    }
   ],
   "source": [
    "## Conversion of data type\n",
    "array_conver = np.array([5,6,7,8],dtype = \"f\")\n",
    "print(array_conver.dtype)"
   ]
  },
  {
   "cell_type": "code",
   "execution_count": 31,
   "id": "3a298136-9a71-4d9b-897c-0e3e6d8f35cf",
   "metadata": {},
   "outputs": [
    {
     "name": "stdout",
     "output_type": "stream",
     "text": [
      "float32\n"
     ]
    }
   ],
   "source": [
    "## Conversion of data type\n",
    "array_conver = np.array([5,6,7,8])\n",
    "new_array_converted = np.float32(array_conver)\n",
    "print(new_array_converted.dtype)"
   ]
  },
  {
   "cell_type": "code",
   "execution_count": 33,
   "id": "62fcdbd2-f70a-4b73-909d-e17a19724d38",
   "metadata": {},
   "outputs": [
    {
     "name": "stdout",
     "output_type": "stream",
     "text": [
      "float64\n"
     ]
    }
   ],
   "source": [
    "## Conversion of data type\n",
    "array_conver = np.array([5,6,7,8])\n",
    "new_array_converted = array_conver.astype(float)\n",
    "print(new_array_converted.dtype)"
   ]
  },
  {
   "cell_type": "markdown",
   "id": "3d49c3fb-4255-4b8c-bc04-d0b8e5fe0e86",
   "metadata": {},
   "source": [
    "# Arithmetic Operation in Numpy array\n",
    "- (a+b) : np.add(a,b)\n",
    "- (a-b) : np.subtract(a,b)\n",
    "- (a*b) : np.multiply(a,b)\n",
    "- (a/b) : np.divide(a,b)\n",
    "- (a%b) : np.mod(a,b)\n",
    "- (a**b) : np.power(a,b)\n",
    "- (1/a) : np.reciprocal(a)"
   ]
  },
  {
   "cell_type": "code",
   "execution_count": 40,
   "id": "5ab5d2bc-f640-418a-a9ca-26174cf54d20",
   "metadata": {},
   "outputs": [
    {
     "name": "stdout",
     "output_type": "stream",
     "text": [
      "[2 3 4] [2 3 4]\n",
      "[4 6 8]\n",
      "[4 6 8]\n",
      "[ 9 10 11]\n"
     ]
    }
   ],
   "source": [
    "c = np.arange(2,5)\n",
    "d = np.arange(2,5)\n",
    "print(c,d)\n",
    "print(np.add(c,d))\n",
    "print(c+d)\n",
    "print(c+7)\n",
    "# These opertion can be performed for 2D"
   ]
  },
  {
   "cell_type": "markdown",
   "id": "2ed6d514-b208-4d41-a730-57d28a8c397a",
   "metadata": {},
   "source": [
    "## Arithmetic function in numpy array\n",
    "- np.min(x)\n",
    "- np.max(x)\n",
    "- np.argmin(x) : return min index\n",
    "- np.argmax(x) : return max index\n",
    "- np.sqrt(x)\n",
    "- np.sin(x)\n",
    "- np.cos(x)\n",
    "- np.cumsum(x)"
   ]
  },
  {
   "cell_type": "code",
   "execution_count": 47,
   "id": "538ebd2f-94c4-4b04-86c8-91502655caf3",
   "metadata": {},
   "outputs": [
    {
     "name": "stdout",
     "output_type": "stream",
     "text": [
      "[5 6 7 8]\n",
      "8\n",
      "[4 8]\n"
     ]
    }
   ],
   "source": [
    "mx = np.arange(5,9)\n",
    "yx =np.array([[1,2,3,4],[4,6,7,8]])\n",
    "print(mx)\n",
    "print(np.max(mx))\n",
    "print(np.max(yx,axis=1))"
   ]
  },
  {
   "cell_type": "code",
   "execution_count": null,
   "id": "f6ef7efb-ceec-4f2c-b460-999d41be8d34",
   "metadata": {},
   "outputs": [],
   "source": []
  }
 ],
 "metadata": {
  "kernelspec": {
   "display_name": "Python 3 (ipykernel)",
   "language": "python",
   "name": "python3"
  },
  "language_info": {
   "codemirror_mode": {
    "name": "ipython",
    "version": 3
   },
   "file_extension": ".py",
   "mimetype": "text/x-python",
   "name": "python",
   "nbconvert_exporter": "python",
   "pygments_lexer": "ipython3",
   "version": "3.12.1"
  }
 },
 "nbformat": 4,
 "nbformat_minor": 5
}
