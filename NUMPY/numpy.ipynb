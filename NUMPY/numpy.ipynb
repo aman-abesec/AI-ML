{
 "cells": [
  {
   "cell_type": "markdown",
   "id": "914d160b-8211-429b-8ea1-c45fa9b8b244",
   "metadata": {},
   "source": [
    "# Creating Array from list"
   ]
  },
  {
   "cell_type": "code",
   "execution_count": 5,
   "id": "11416514-3720-4e6c-880f-538a34f5fa5d",
   "metadata": {},
   "outputs": [],
   "source": [
    "import numpy as np\n",
    "x=np.array([1,2,3,4,5])\n",
    "y=np.array([[1,2,3,4],[4,6,7,8]])"
   ]
  },
  {
   "cell_type": "code",
   "execution_count": 8,
   "id": "9f642e0f-b3e5-4dc6-959d-90bc2ce393cf",
   "metadata": {},
   "outputs": [
    {
     "name": "stdout",
     "output_type": "stream",
     "text": [
      "[1 2 3 4 5]\n",
      "[[1 2 3 4]\n",
      " [4 6 7 8]]\n"
     ]
    }
   ],
   "source": [
    "print(\"First Array : \",x)\n",
    "print(\"Second Array : \",y)"
   ]
  },
  {
   "cell_type": "code",
   "execution_count": 10,
   "id": "13c149f1-43fd-4d35-a308-73248513cd8a",
   "metadata": {},
   "outputs": [
    {
     "name": "stdout",
     "output_type": "stream",
     "text": [
      "1\n",
      "2\n"
     ]
    }
   ],
   "source": [
    "# Finding dimension of array\n",
    "print(x.ndim)\n",
    "print(y.ndim)"
   ]
  },
  {
   "cell_type": "markdown",
   "id": "99f1f4ee-21fa-424f-aa04-9935e7fd2470",
   "metadata": {},
   "source": [
    "## Zeros"
   ]
  },
  {
   "cell_type": "code",
   "execution_count": 13,
   "id": "56bba419-af1d-4bb8-8eef-d6056dbdeda7",
   "metadata": {},
   "outputs": [
    {
     "name": "stdout",
     "output_type": "stream",
     "text": [
      "First Array :  [0. 0. 0. 0.]\n",
      "Second Array :  [[0. 0. 0. 0.]\n",
      " [0. 0. 0. 0.]\n",
      " [0. 0. 0. 0.]]\n"
     ]
    }
   ],
   "source": [
    "x_0_array = np.zeros(4)\n",
    "x_0_array1=np.zeros((3,4))\n",
    "print(\"First Array : \",x_0_array)\n",
    "print(\"Second Array : \",x_0_array1)"
   ]
  },
  {
   "cell_type": "markdown",
   "id": "79d9c837-d2f0-4c4f-97e5-9dc74007eded",
   "metadata": {},
   "source": [
    "## Ones"
   ]
  },
  {
   "cell_type": "code",
   "execution_count": 15,
   "id": "d6a11a22-9175-43a0-9ad0-d33e6e97dccf",
   "metadata": {},
   "outputs": [
    {
     "name": "stdout",
     "output_type": "stream",
     "text": [
      "First Array :  [1. 1. 1. 1.]\n",
      "Second Array :  [[1. 1. 1. 1.]\n",
      " [1. 1. 1. 1.]\n",
      " [1. 1. 1. 1.]]\n"
     ]
    }
   ],
   "source": [
    "x_1_array = np.ones(4)\n",
    "x_1_array1=np.ones((3,4))\n",
    "print(\"First Array : \",x_1_array)\n",
    "print(\"Second Array : \",x_1_array1)"
   ]
  },
  {
   "cell_type": "markdown",
   "id": "bb8807c6-8fa1-4715-bbd9-0e14f5bdddc3",
   "metadata": {},
   "source": [
    "## Creating Empty Array\n",
    "    It store previous memory data"
   ]
  },
  {
   "cell_type": "code",
   "execution_count": 16,
   "id": "ad3766c2-d437-487a-8437-0f953e84af64",
   "metadata": {},
   "outputs": [
    {
     "name": "stdout",
     "output_type": "stream",
     "text": [
      "First Array :  [1. 1. 1. 1.]\n",
      "Second Array :  [[1. 1. 1. 1.]\n",
      " [1. 1. 1. 1.]\n",
      " [1. 1. 1. 1.]]\n"
     ]
    }
   ],
   "source": [
    "x_empty_array = np.empty(4)\n",
    "x_empty_array1=np.empty((3,4))\n",
    "print(\"First Array : \",x_empty_array)\n",
    "print(\"Second Array : \",x_empty_array1)"
   ]
  },
  {
   "cell_type": "markdown",
   "id": "68326ee1-b649-4fab-83b1-52cacc40442e",
   "metadata": {},
   "source": [
    "## Range "
   ]
  },
  {
   "cell_type": "code",
   "execution_count": 31,
   "id": "03997dd1-e66a-4dd3-9f71-955f2738cfad",
   "metadata": {},
   "outputs": [
    {
     "name": "stdout",
     "output_type": "stream",
     "text": [
      "First Array :  [0 1 2 3]\n"
     ]
    }
   ],
   "source": [
    "x_arange_array = np.arange(4)\n",
    "print(\"First Array : \",x_arange_array)"
   ]
  },
  {
   "cell_type": "markdown",
   "id": "db6f9acd-1247-4368-b5a6-3873e71e55b6",
   "metadata": {},
   "source": [
    "## Array diagonaly element filled with 1's"
   ]
  },
  {
   "cell_type": "code",
   "execution_count": 25,
   "id": "5684e104-0812-4225-b0b8-6a86795e1062",
   "metadata": {},
   "outputs": [
    {
     "name": "stdout",
     "output_type": "stream",
     "text": [
      "[[1. 0. 0. 0. 0.]\n",
      " [0. 1. 0. 0. 0.]\n",
      " [0. 0. 1. 0. 0.]\n",
      " [0. 0. 0. 1. 0.]\n",
      " [0. 0. 0. 0. 1.]]\n"
     ]
    }
   ],
   "source": [
    "x_eye_array = np.eye(5)\n",
    "print(x_eye_array)"
   ]
  },
  {
   "cell_type": "code",
   "execution_count": 27,
   "id": "052f601b-4b04-45fd-8a8d-c3885a72c260",
   "metadata": {},
   "outputs": [
    {
     "name": "stdout",
     "output_type": "stream",
     "text": [
      "[[1. 0. 0. 0. 0.]\n",
      " [0. 1. 0. 0. 0.]\n",
      " [0. 0. 1. 0. 0.]]\n"
     ]
    }
   ],
   "source": [
    "x_eye_array1 = np.eye(3,5)\n",
    "print(x_eye_array1)"
   ]
  },
  {
   "cell_type": "markdown",
   "id": "e18f8d64-2a74-4f2f-bba7-182d2103d3bc",
   "metadata": {},
   "source": [
    "## linspace\n",
    "    This metod create an array of equal spacing\n",
    "    \n",
    "*** STNTAX ***\n",
    "linspace(START,END,num=Number_of_element)"
   ]
  },
  {
   "cell_type": "code",
   "execution_count": 32,
   "id": "d122e463-0a9e-4d8c-bc6b-5874c00be13b",
   "metadata": {},
   "outputs": [
    {
     "name": "stdout",
     "output_type": "stream",
     "text": [
      "[ 1.   5.5 10. ]\n"
     ]
    }
   ],
   "source": [
    "ar_lin = np.linspace(1,10,num=3)\n",
    "print(ar_lin)"
   ]
  },
  {
   "cell_type": "code",
   "execution_count": null,
   "id": "e91ba40c-dc1f-4961-8d98-d1fa05f7b147",
   "metadata": {},
   "outputs": [],
   "source": []
  }
 ],
 "metadata": {
  "kernelspec": {
   "display_name": "Python 3 (ipykernel)",
   "language": "python",
   "name": "python3"
  },
  "language_info": {
   "codemirror_mode": {
    "name": "ipython",
    "version": 3
   },
   "file_extension": ".py",
   "mimetype": "text/x-python",
   "name": "python",
   "nbconvert_exporter": "python",
   "pygments_lexer": "ipython3",
   "version": "3.12.1"
  }
 },
 "nbformat": 4,
 "nbformat_minor": 5
}
